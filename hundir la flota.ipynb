{
 "cells": [
  {
   "cell_type": "code",
   "execution_count": 9,
   "metadata": {},
   "outputs": [
    {
     "data": {
      "text/plain": [
       "'\\n██╗  ██╗ ██╗ ██╗ ███╗   ██╗ ██████╗  ██ ╗██████╗    ██╗     █████╗    ███████╗██╗    ███████  ███████╗ █████╗\\n██║  ██║ ██║ ██║ ████╗  ██║ ██╔══██╗ ██ ║██╔══██╗   ██║    ██╔══██╗   ██╔════╝██║    ██╔══██╗╚══██╔══╝██╔══██╗\\n███████║ ██║ ██║ ██╔██╗ ██║ ██║  ██║ ██ ║██████╔╝   ██║    ███████║   █████╗  ██║    ██║  ██║   ██║   ███████║\\n██╔══██║ ██║ ██║ ██║╚██╗██║ ██║  ██║ ██ ║██╔══██╗   ██║    ██╔══██║   ██╔══╝  ██║    ██║  ██║   ██║   ██╔══██║\\n██║  ██║ ██████╔ ██║ ╚████║ ██████╔╝ ██ ║██║  ██║   █████  ██╗  ██║   ██║     █████  ███████    ██    ██║  ██║ \\n╚═╝ ╚═╝  ╚═════╝ ╚═╝ ╚═══╝  ╚═════╝ ╚═╝ ╚═╝   ╚═╝  ╚══════╝╚═╝ ╚═ ╝   ╚═╝    ╚══════╝ ╚═════╝   ╚═╝   ╚═╝  ╚═╝\\n\\nCarlos Eduardo Gutiérrez\\nDaiana Noelia Saenz\\n'"
      ]
     },
     "execution_count": 9,
     "metadata": {},
     "output_type": "execute_result"
    }
   ],
   "source": [
    "\"\"\"\n",
    "██╗  ██╗ ██╗ ██╗ ███╗   ██╗ ██████╗  ██ ╗██████╗    ██╗     █████╗    ███████╗██╗    ███████  ███████╗ █████╗\n",
    "██║  ██║ ██║ ██║ ████╗  ██║ ██╔══██╗ ██ ║██╔══██╗   ██║    ██╔══██╗   ██╔════╝██║    ██╔══██╗╚══██╔══╝██╔══██╗\n",
    "███████║ ██║ ██║ ██╔██╗ ██║ ██║  ██║ ██ ║██████╔╝   ██║    ███████║   █████╗  ██║    ██║  ██║   ██║   ███████║\n",
    "██╔══██║ ██║ ██║ ██║╚██╗██║ ██║  ██║ ██ ║██╔══██╗   ██║    ██╔══██║   ██╔══╝  ██║    ██║  ██║   ██║   ██╔══██║\n",
    "██║  ██║ ██████╔ ██║ ╚████║ ██████╔╝ ██ ║██║  ██║   █████  ██╗  ██║   ██║     █████  ███████    ██    ██║  ██║ \n",
    "╚═╝ ╚═╝  ╚═════╝ ╚═╝ ╚═══╝  ╚═════╝ ╚═╝ ╚═╝   ╚═╝  ╚══════╝╚═╝ ╚═ ╝   ╚═╝    ╚══════╝ ╚═════╝   ╚═╝   ╚═╝  ╚═╝\n",
    "\n",
    "Carlos Eduardo Gutiérrez\n",
    "Daiana Noelia Saenz\n",
    "\"\"\"\n",
    "                                                                                                       "
   ]
  },
  {
   "attachments": {},
   "cell_type": "markdown",
   "metadata": {},
   "source": [
    "![ed3f7c55bd45ecb4689b684007e71eb3.png](C:\\Users\\HP\\Documents\\Hundir-la-flota\\ed3f7c55bd45ecb4689b684007e71eb3.png)"
   ]
  },
  {
   "cell_type": "code",
   "execution_count": 10,
   "metadata": {},
   "outputs": [],
   "source": [
    "\"\"\"Daremos comienzo al menu de nuestro juego, indicando unas variables fijas y otras vacias que recibiran,\n",
    "su valor segun corresponda en el transcurso de nuestro codigo.\n",
    "Las siguientes variables corresponden a los barcos:\n",
    "fragata: habran 4 en total y cada una se corresponde con 1 eslora.\n",
    "destructor: habran 3 en total y cada uno se corresponde con 2 esloras.\n",
    "acorazado: habran 2 en total y cada uno se corresponde con 3 esloras.\n",
    "porta aviones: sera solo 1 de 4 esloras\n",
    "a todos ellos se les dara un valor mediante una letra que veremos representada en el tablero\n",
    "\"\"\"\n",
    "\n",
    "fragata_1a = \"\"  \n",
    "fragata_1b= \"\"\n",
    "fragata_1c= \"\"\n",
    "fragata_1d= \"\"\n",
    "destructor_1a= \"\"\n",
    "destructor_1b= \"\"\n",
    "destructor_1c= \"\"\n",
    "acorazado_1a= \"\"\n",
    "acoradado_1b= \"\"  \n",
    "porta_aviones= \"\" \n",
    "\n",
    "#variables que usaremos durante la ejecucion del programa\n",
    "filas= 10\n",
    "columnas= 10\n",
    "mar= \" \"\n",
    "acierto= \"O\"\n",
    "desacierto= mar\n",
    "barcos_jugador = 10\n",
    "barcos_maquina= 10\n",
    "df = \"-\"\n",
    "da = \"+\"\n",
    "jugador1= \"x1\"\n",
    "jugador2= \"x2\"\n",
    "mensaje_bienvenida= \"Hola, bienvenido a tu juego favorito, Hundir la flota, Comencemos...\"\n",
    "introduccion= \"\"\"¿En que consiste el juego?\n",
    "El juego consiste en derribar los barcos de tu adversario!, para ello dispondras de dos tableros, uno donde colocaras tus propios barcos y el segundo donde marcaras los disparos que des a tu adversario.\n",
    "\n",
    "\n",
    "¿Cómo jugar? \n",
    "\n",
    "1. El jugador podrá colocar los barcos en su tablero en posición horizontal o vertical y en cualquier lugar de la franja de cuadrados del tablero pero teniendo en cuenta que no se pueden pegar uno a otro (aunque si pueden colocarse junto a los bordes).\n",
    "2. Como jugador tendrás un turno de disparo que se irá alternando. Para hacerlo deberá enunciar las diferentes combinaciones dependiendo del tablero con el que se esté jugando. Por ejemplo:\n",
    "tienes que realizar tu primer disparo, para lo cual deberas ingresar un elemento de la columna vertical: que sera un numero del 1 al 9 y otro de la horizontal tambien del 1 al 9: si logras acertar podras continuar dispando, si no lo logras, sera el turno de tu adversario.\n",
    "3. Si disparas y no aciertas tambien contiara inmediatamente tu adversario disparando.\n",
    "4. El juego acaba cuando ingresas la palabra \"exit\" o si logras derribar todos los barcos de tu adversario. \"\"\""
   ]
  },
  {
   "cell_type": "code",
   "execution_count": 11,
   "metadata": {},
   "outputs": [
    {
     "data": {
      "text/plain": [
       "array([[' ', ' ', ' ', ' ', ' ', ' ', ' ', ' ', ' ', ' '],\n",
       "       [' ', ' ', ' ', ' ', ' ', ' ', ' ', ' ', ' ', ' '],\n",
       "       [' ', ' ', ' ', ' ', ' ', ' ', ' ', ' ', ' ', ' '],\n",
       "       [' ', ' ', ' ', ' ', ' ', ' ', ' ', ' ', ' ', ' '],\n",
       "       [' ', ' ', ' ', ' ', ' ', ' ', ' ', ' ', ' ', ' '],\n",
       "       [' ', ' ', ' ', ' ', ' ', ' ', ' ', ' ', ' ', ' '],\n",
       "       [' ', ' ', ' ', ' ', ' ', ' ', ' ', ' ', ' ', ' '],\n",
       "       [' ', ' ', ' ', ' ', ' ', ' ', ' ', ' ', ' ', ' '],\n",
       "       [' ', ' ', ' ', ' ', ' ', ' ', ' ', ' ', ' ', ' '],\n",
       "       [' ', ' ', ' ', ' ', ' ', ' ', ' ', ' ', ' ', ' ']], dtype='<U1')"
      ]
     },
     "execution_count": 11,
     "metadata": {},
     "output_type": "execute_result"
    }
   ],
   "source": [
    "import numpy as np\n",
    "\n",
    "def tablero_maquina_anotaciones():\n",
    "    tablero_de_la_maquina= np.full((10,10), (\" \"))\n",
    "    return tablero_de_la_maquina\n",
    "\n",
    "tablero_maquina_anotaciones()"
   ]
  },
  {
   "cell_type": "code",
   "execution_count": 12,
   "metadata": {},
   "outputs": [
    {
     "data": {
      "text/plain": [
       "array([[' ', ' ', ' ', ' ', ' ', ' ', ' ', ' ', ' ', ' '],\n",
       "       [' ', ' ', ' ', ' ', ' ', ' ', ' ', ' ', ' ', ' '],\n",
       "       [' ', ' ', ' ', ' ', ' ', ' ', ' ', ' ', ' ', ' '],\n",
       "       [' ', ' ', ' ', ' ', ' ', ' ', ' ', ' ', ' ', ' '],\n",
       "       [' ', ' ', ' ', ' ', ' ', ' ', ' ', ' ', ' ', ' '],\n",
       "       [' ', ' ', ' ', ' ', ' ', ' ', ' ', ' ', ' ', ' '],\n",
       "       [' ', ' ', ' ', ' ', ' ', ' ', ' ', ' ', ' ', ' '],\n",
       "       [' ', ' ', ' ', ' ', ' ', ' ', ' ', ' ', ' ', ' '],\n",
       "       [' ', ' ', ' ', ' ', ' ', ' ', ' ', ' ', ' ', ' '],\n",
       "       [' ', ' ', ' ', ' ', ' ', ' ', ' ', ' ', ' ', ' ']], dtype='<U1')"
      ]
     },
     "execution_count": 12,
     "metadata": {},
     "output_type": "execute_result"
    }
   ],
   "source": [
    "def tablero_maquina_barcos_colocados():\n",
    "    tablero_de_la_maquina= np.full((10,10), (\" \"))\n",
    "    return tablero_de_la_maquina\n",
    "\n",
    "tablero_maquina_barcos_colocados()"
   ]
  },
  {
   "cell_type": "code",
   "execution_count": 13,
   "metadata": {},
   "outputs": [
    {
     "data": {
      "text/plain": [
       "array([[' ', ' ', ' ', ' ', ' ', ' ', ' ', ' ', ' ', ' '],\n",
       "       [' ', ' ', ' ', ' ', ' ', ' ', ' ', ' ', ' ', ' '],\n",
       "       [' ', ' ', ' ', ' ', ' ', ' ', ' ', ' ', ' ', ' '],\n",
       "       [' ', ' ', ' ', ' ', ' ', ' ', ' ', ' ', ' ', ' '],\n",
       "       [' ', ' ', ' ', ' ', ' ', ' ', ' ', ' ', ' ', ' '],\n",
       "       [' ', ' ', ' ', ' ', ' ', ' ', ' ', ' ', ' ', ' '],\n",
       "       [' ', ' ', ' ', ' ', ' ', ' ', ' ', ' ', ' ', ' '],\n",
       "       [' ', ' ', ' ', ' ', ' ', ' ', ' ', ' ', ' ', ' '],\n",
       "       [' ', ' ', ' ', ' ', ' ', ' ', ' ', ' ', ' ', ' '],\n",
       "       [' ', ' ', ' ', ' ', ' ', ' ', ' ', ' ', ' ', ' ']], dtype='<U1')"
      ]
     },
     "execution_count": 13,
     "metadata": {},
     "output_type": "execute_result"
    }
   ],
   "source": [
    "def tablero_jugador_anotaciones():\n",
    "    tablero_jugador_manual= np.full((10,10), (\" \"))\n",
    "    return tablero_jugador_manual\n",
    "\n",
    "tablero_jugador_anotaciones()"
   ]
  },
  {
   "cell_type": "code",
   "execution_count": 14,
   "metadata": {},
   "outputs": [
    {
     "data": {
      "text/plain": [
       "array([[' ', ' ', ' ', ' ', ' ', ' ', ' ', ' ', ' ', ' '],\n",
       "       [' ', ' ', ' ', ' ', ' ', ' ', ' ', ' ', ' ', ' '],\n",
       "       [' ', ' ', ' ', ' ', ' ', ' ', ' ', ' ', ' ', ' '],\n",
       "       [' ', ' ', ' ', ' ', ' ', ' ', ' ', ' ', ' ', ' '],\n",
       "       [' ', ' ', ' ', ' ', ' ', ' ', ' ', ' ', ' ', ' '],\n",
       "       [' ', ' ', ' ', ' ', ' ', ' ', ' ', ' ', ' ', ' '],\n",
       "       [' ', ' ', ' ', ' ', ' ', ' ', ' ', ' ', ' ', ' '],\n",
       "       [' ', ' ', ' ', ' ', ' ', ' ', ' ', ' ', ' ', ' '],\n",
       "       [' ', ' ', ' ', ' ', ' ', ' ', ' ', ' ', ' ', ' '],\n",
       "       [' ', ' ', ' ', ' ', ' ', ' ', ' ', ' ', ' ', ' ']], dtype='<U1')"
      ]
     },
     "execution_count": 14,
     "metadata": {},
     "output_type": "execute_result"
    }
   ],
   "source": [
    "def tablero_jugador_barcos_colocados():\n",
    "    tablero_jugador_manual= np.full((10,10), (\" \"))\n",
    "    return tablero_jugador_manual\n",
    "\n",
    "tablero_jugador_barcos_colocados()"
   ]
  },
  {
   "cell_type": "code",
   "execution_count": 15,
   "metadata": {},
   "outputs": [
    {
     "ename": "SyntaxError",
     "evalue": "unexpected EOF while parsing (1087532612.py, line 31)",
     "output_type": "error",
     "traceback": [
      "\u001b[1;36m  File \u001b[1;32m\"C:\\Users\\HP\\AppData\\Local\\Temp\\ipykernel_13588\\1087532612.py\"\u001b[1;36m, line \u001b[1;32m31\u001b[0m\n\u001b[1;33m    \u001b[0m\n\u001b[1;37m    ^\u001b[0m\n\u001b[1;31mSyntaxError\u001b[0m\u001b[1;31m:\u001b[0m unexpected EOF while parsing\n"
     ]
    }
   ],
   "source": [
    "print(\"A continuacion deberas seleccionar el barco que colocaras: \")\n",
    "print('escribe \"fragata\" si el barco que quieres colocar es de 1 eslora')\n",
    "print('escribe \"destructor\" si tu barco es de 2 esloras')\n",
    "print('escribe \"acorazado\" si tu barco es de 1 eslora')\n",
    "print('escribe \"portaaviones\" si tu barco es de 1 eslora')\n",
    "\n",
    "#el jugador elige que barco colocar primero: A, B, C, D\n",
    "def elegir_barco():\n",
    "    barco= input(\"ingrese el nombre del barco: \")\n",
    "    if barco == \"fragata\":\n",
    "        fragata_1a.append(\"A\")\n",
    "        colocar_barcos_jugador()\n",
    "        \n",
    "        \n",
    "\n",
    "def colocar_barcos_jugador():\n",
    "    barco_esloras_1a= []\n",
    "    y=int(input(\"ingresa el numero de fila donde quieres colocar tu barco: \"))\n",
    "    barco_esloras_1a.append(y)\n",
    "    x=int(input(\"ingresa el numero de columna donde quieres colocar tu barco: \"))\n",
    "    barco_esloras_1a.append(x)\n",
    "    return tablero_jugador_barcos_colocados == barco_esloras_1a\n",
    "\n",
    "print(tablero_jugador_barcos_colocados)\n",
    "    \n",
    "colocar_barcos_jugador()\n",
    "\n",
    "\n",
    "def comprobar_disparo():\n",
    "    \n",
    "\n"
   ]
  },
  {
   "cell_type": "code",
   "execution_count": null,
   "metadata": {},
   "outputs": [],
   "source": [
    "\"\"\"tablero_manual[3,1]= \"B\"\n",
    "tablero_manual[4,1]= \"B\"\n",
    "\n",
    "tablero_manual[7,7]= \"B\"\n",
    "tablero_manual[7,8]= \"B\"\n",
    "\n",
    "tablero_manual[2,3]= \"D\"\n",
    "tablero_manual[2,4]= \"D\"\n",
    "tablero_manual[2,5]= \"D\"\n",
    "tablero_manual[2,6]= \"D\"\n",
    "\n",
    "tablero_manual[6,4]= \"B\"\n",
    "tablero_manual[6,5]= \"B\"\n",
    "\n",
    "tablero_manual[3,7]= \"C\"\n",
    "tablero_manual[3,8]= \"C\"\n",
    "tablero_manual[3,9]= \"C\"\n",
    "\n",
    "tablero_manual[8,6]= \"C\"\n",
    "tablero_manual[8,7]= \"C\"\n",
    "tablero_manual[8,8]= \"C\"\n",
    "\n",
    "tablero_manual[5,8]= \"A\"\n",
    "\n",
    "tablero_manual\"\"\""
   ]
  },
  {
   "cell_type": "code",
   "execution_count": null,
   "metadata": {},
   "outputs": [],
   "source": [
    "\n",
    "\"\"\"def disparos():\n",
    "    int(input(\"ingrese sus coordenas: \"))\"\"\"\n",
    "\n",
    "\n",
    "\n"
   ]
  },
  {
   "cell_type": "code",
   "execution_count": null,
   "metadata": {},
   "outputs": [],
   "source": [
    "\n",
    "\"\"\"tablero_maquina[0,1]= \"B\"\n",
    "tablero_maquina[1,1]= \"B\"\n",
    "\n",
    "tablero_maquina[5,7]= \"B\"\n",
    "tablero_maquina[5,8]= \"B\"\n",
    "\n",
    "tablero_maquina[1,3]= \"D\"\n",
    "tablero_maquina[1,4]= \"D\"\n",
    "tablero_maquina[1,5]= \"D\"\n",
    "tablero_maquina[1,6]= \"D\"\n",
    "\n",
    "tablero_maquina[7,4]= \"B\"\n",
    "tablero_maquina[7,5]= \"B\"\n",
    "\n",
    "tablero_maquina[1,7]= \"C\"\n",
    "tablero_maquina[2,7]= \"C\"\n",
    "tablero_maquina[3,7]= \"C\"\n",
    "\n",
    "tablero_maquina[9,6]= \"C\"\n",
    "tablero_maquina[9,7]= \"C\"\n",
    "tablero_maquina[9,8]= \"C\"\n",
    "\n",
    "tablero_maquina[7,1]= \"A\"\n",
    "\n",
    "tablero_maquina\"\"\""
   ]
  },
  {
   "cell_type": "code",
   "execution_count": null,
   "metadata": {},
   "outputs": [],
   "source": [
    "print(\"A continuacion deberas seleccionar el barco que colocaras: \")\n"
   ]
  }
 ],
 "metadata": {
  "kernelspec": {
   "display_name": "Python 3",
   "language": "python",
   "name": "python3"
  },
  "language_info": {
   "codemirror_mode": {
    "name": "ipython",
    "version": 3
   },
   "file_extension": ".py",
   "mimetype": "text/x-python",
   "name": "python",
   "nbconvert_exporter": "python",
   "pygments_lexer": "ipython3",
   "version": "3.7.4"
  },
  "orig_nbformat": 4,
  "vscode": {
   "interpreter": {
    "hash": "356734b0b4e05b3af569ed06eb258f6ef66038e7268c6bdbb97ecd1a1c609e88"
   }
  }
 },
 "nbformat": 4,
 "nbformat_minor": 2
}
